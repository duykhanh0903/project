{
 "cells": [
  {
   "cell_type": "code",
   "execution_count": 1,
   "id": "75a926df",
   "metadata": {},
   "outputs": [],
   "source": [
    "from requests_html import HTMLSession\n",
    "session = HTMLSession()"
   ]
  },
  {
   "cell_type": "code",
   "execution_count": 2,
   "id": "206af325",
   "metadata": {},
   "outputs": [
    {
     "name": "stdout",
     "output_type": "stream",
     "text": [
      "{'Triều đại': '', 'Tên húy': 'không có', 'Niên hiệu': 'Khúc Thừa Dụ[20]\\n(曲承裕)'}\n",
      "{'Triều đại': '', 'Tên húy': 'không có', 'Niên hiệu': 'Khúc Hạo,[20]\\n(曲顥)\\nKhúc Thừa Hạo[21]'}\n",
      "{'Triều đại': '', 'Tên húy': 'không có', 'Niên hiệu': 'Khúc Thừa Mỹ[21]\\n(曲承美)\\nKhúc Toàn Mỹ'}\n",
      "{'Triều đại': 'Họ Dương (931–937)', 'Tên húy': 'không có', 'Niên hiệu': 'Dương Đình Nghệ,[20]\\n(楊廷藝)\\nDương Diên Nghệ[23]\\n(楊筵藝)'}\n",
      "{'Triều đại': '', 'Tên húy': 'không có', 'Niên hiệu': 'Kiều Công Tiễn,[21]\\n(矯公羨)\\nKiểu Công Tiễn,[20]\\nKiểu Công Hạo,[23]'}\n",
      "{'Triều đại': '', 'Tên húy': 'Thuận Thiên (1010–1028)[30]', 'Niên hiệu': 'Lý Công Uẩn[30]'}\n",
      "{'Triều đại': '', 'Tên húy': 'Thiên Thành (1028–1033),[30]\\nThông Thụy (1034–1038),[30]\\nCàn Phù Hữu Đạo (1039–1041),[30]\\nMinh Đạo (1042–1043),[30]\\nThiên Cảm Thánh Vũ (1044–1048),[30]\\nSùng Hưng Đại Bảo (1049–1054).[30]', 'Niên hiệu': 'Lý Phật Mã,[30]\\nLý Đức Chính[30]'}\n",
      "{'Triều đại': '', 'Tên húy': 'Long Thụy Thái Bình (1054–1058),[31] Chương Thánh Gia Khánh (1059–1065),[31]\\nLong Chương Thiên Tự (1066–1068),[31]\\nThiên Huống Bảo Tượng (1068–1069),[31]\\nThần Vũ (1069–1072).[31]', 'Niên hiệu': 'Lý Nhật Tôn[31]'}\n",
      "{'Triều đại': '', 'Tên húy': 'Thái Ninh (1072–1076),[32]\\nAnh Vũ Chiêu Thắng (1076–1084),[32]\\nQuảng Hựu (1085–1092),[32]\\nHội Phong (1092–1100),[33]\\nLong Phù (1101–1109),[33]\\nHội Tường Đại Khánh (1110–1119),[33]\\nThiên Phù Duệ Vũ (1120–1126),[33]\\nThiên Phù Khánh Thọ (1127).[33]', 'Niên hiệu': 'Lý Càn Đức[31]'}\n",
      "{'Triều đại': '', 'Tên húy': 'Thiên Thuận (1128–1132),[33]\\nThiên Chương Bảo Tự (1133–1138)[33]', 'Niên hiệu': 'Lý Dương Hoán[31]'}\n",
      "{'Triều đại': '', 'Tên húy': 'Thiệu Minh (1138–1139),[33]\\nĐại Định (1140–1162),[33]\\nChính Long Bảo Ứng (1163–1173),[35]\\nThiên Cảm Chí Bảo (1174–1175)[35]', 'Niên hiệu': 'Lý Thiên Tộ[34]'}\n",
      "{'Triều đại': '', 'Tên húy': 'Trinh Phù (1176–1185),[35]\\nThiên Tư Gia Thụy (1186–1201),[35]\\nThiên Gia Bảo Hựu (1202–1204),[35]\\nTrị Bình Long Ứng (1205–1210)[35]', 'Niên hiệu': 'Lý Long Cán[36]\\nLý Long Trát[34]'}\n",
      "{'Triều đại': '', 'Tên húy': 'không có[35]', 'Niên hiệu': 'Lý Thẩm[35]'}\n",
      "{'Triều đại': '', 'Tên húy': 'Kiến Gia (1211–1224)[35]', 'Niên hiệu': 'Lý Sảm,[34]\\nLý Hạo Sảm[35]'}\n",
      "{'Triều đại': '', 'Tên húy': 'Càn Ninh (1214–1216)[37]', 'Niên hiệu': 'không rõ[37]'}\n",
      "{'Triều đại': '', 'Tên húy': 'Thiên Chương Hữu Đạo (1224–1225)[37]', 'Niên hiệu': 'Lý Phật Kim,[34]\\nLý Thiên Hinh[37]'}\n",
      "{'Triều đại': 'Nhà Hậu Lê – giai đoạn Lê sơ (1428–1527)', 'Tên húy': 'Thuận Thiên (1428–1433)[46]', 'Niên hiệu': 'Lê Lợi[46]'}\n",
      "{'Triều đại': 'Nhà Hậu Lê – giai đoạn Lê sơ (1428–1527)', 'Tên húy': 'Thiệu Bình (1434–1439)[48]\\nĐại Bảo (1440-1442)[48]', 'Niên hiệu': 'Lê Nguyên Long[48]\\nLê Lân[43]'}\n",
      "{'Triều đại': 'Nhà Hậu Lê – giai đoạn Lê sơ (1428–1527)', 'Tên húy': 'Thái Hòa (1443–1453)[48]\\nDiên Ninh (1454–1459)[48]', 'Niên hiệu': 'Lê Bang Cơ[48]\\nLê Cơ Long\\nLê Tuấn[50]'}\n",
      "{'Triều đại': 'Nhà Hậu Lê – giai đoạn Lê sơ (1428–1527)', 'Tên húy': 'Thiên Hưng (1459–1460)[48]', 'Niên hiệu': 'Lê Nghi Dân[48]\\nLê Tông[50]'}\n",
      "{'Triều đại': 'Nhà Hậu Lê – giai đoạn Lê sơ (1428–1527)', 'Tên húy': 'Quang Thuận (1460–1469)[49]\\nHồng Đức (1470–1497)[49]', 'Niên hiệu': 'Lê Tư Thành[49]\\nLê Hạo[43]'}\n",
      "{'Triều đại': 'Nhà Hậu Lê – giai đoạn Lê sơ (1428–1527)', 'Tên húy': 'Cảnh Thống (1497–1504)[51]', 'Niên hiệu': 'Lê Tranh[51]\\nLê Sanh[51]\\nLê Huy[51]\\nLê Tăng[43]'}\n",
      "{'Triều đại': 'Nhà Hậu Lê – giai đoạn Lê sơ (1428–1527)', 'Tên húy': 'Thái Trinh (1504)[51]', 'Niên hiệu': 'Lê Thuần[51]'}\n",
      "{'Triều đại': 'Nhà Hậu Lê – giai đoạn Lê sơ (1428–1527)', 'Tên húy': 'Đoan Khánh (1505–1509)[51]', 'Niên hiệu': 'Lê Tuấn[51]\\nLê Huyên[51]'}\n",
      "{'Triều đại': 'Nhà Hậu Lê – giai đoạn Lê sơ (1428–1527)', 'Tên húy': 'Hồng Thuận (1510–1516)[52]', 'Niên hiệu': 'Lê Oánh[53]\\nLê Oanh[53]\\nLê Dinh[52]\\nLê Trừu[52]'}\n",
      "{'Triều đại': 'Nhà Hậu Lê – giai đoạn Lê sơ (1428–1527)', 'Tên húy': 'không có[52]', 'Niên hiệu': 'Lê Quang Trị[52]'}\n",
      "{'Triều đại': 'Nhà Hậu Lê – giai đoạn Lê sơ (1428–1527)', 'Tên húy': 'Quang Thiệu (1516-1525)[52]', 'Niên hiệu': 'Lê Y[52]\\nLê Huệ[52]'}\n",
      "{'Triều đại': 'Nhà Hậu Lê – giai đoạn Lê sơ (1428–1527)', 'Tên húy': 'Đại Đức (1518–1519)[52]', 'Niên hiệu': 'Lê Bảng[52]'}\n",
      "{'Triều đại': 'Nhà Hậu Lê – giai đoạn Lê sơ (1428–1527)', 'Tên húy': 'Thiên Hiến (1519)[52]', 'Niên hiệu': 'Lê Do[52]\\nLê Dữu[54]'}\n",
      "{'Triều đại': 'Nhà Hậu Lê – giai đoạn Lê sơ (1428–1527)', 'Tên húy': 'Thống Nguyên (1522–1527)[52]', 'Niên hiệu': 'Lê Xuân[52]\\nLê Lự[52]\\nLê Khánh[55]'}\n"
     ]
    }
   ],
   "source": [
    "url = 'https://vi.wikipedia.org/wiki/Vua_Việt_Nam'\n",
    "r = session.get(url)\n",
    "\n",
    "# tìm trên web các phần của table(bảng)\n",
    "tags = r.html.find('h2, h3, table.wikitable')\n",
    "\n",
    "all_monarchs_data = []\n",
    "current_header_name = \"Không rõ triều đại\" # Biến lưu tên tiêu đề gần nhất\n",
    "\n",
    "# 2. Lặp qua danh sách các thẻ đã tìm được\n",
    "for tag in tags:\n",
    "    \n",
    "    # Nếu thẻ là một tiêu đề, cập nhật lại tên triều đại gần nhất\n",
    "    if tag.tag in ['h2', 'h3']:\n",
    "        headline = tag.find('span.mw-headline', first=True)\n",
    "        if headline:\n",
    "            current_header_name = headline.text\n",
    "        else:\n",
    "            # Nếu không, lấy trực tiếp text từ thẻ h2/h3\n",
    "            # Dùng .strip() để xóa các khoảng trắng thừa\n",
    "            current_header_name = tag.text.strip()\n",
    "            # Loại bỏ phần [sửa | sửa mã nguồn] nếu có\n",
    "            if '[sửa | sửa mã nguồn]' in current_header_name:\n",
    "                current_header_name = current_header_name.split('[sửa | sửa mã nguồn]')[0].strip()\n",
    "    \n",
    "    # Nếu thẻ là một cái bảng, tiến hành xử lý\n",
    "    elif tag.tag == 'table':\n",
    "        \n",
    "        # Ưu tiên 1: Tìm caption bên trong bảng\n",
    "        caption_tag = tag.find('caption', first=True)\n",
    "        \n",
    "        # Quyết định tên triều đại cuối cùng\n",
    "        # Nếu có caption thì dùng, nếu không thì dùng tên tiêu đề đã lưu\n",
    "        final_dynasty_name = caption_tag.text if caption_tag else current_header_name\n",
    "        \n",
    "        # Bóc tách dữ liệu từ các hàng trong bảng\n",
    "        rows = tag.find('tr')[1:] # Bỏ qua hàng tiêu đề\n",
    "        for row in rows:\n",
    "            cells = row.find('td')\n",
    "            # Cần kiểm tra số lượng ô để tránh lỗi với các bảng cấu trúc lạ\n",
    "            if len(cells) > 5:\n",
    "                ten_huy = cells[4].text\n",
    "                nien_hieu = cells[5].text\n",
    "                \n",
    "                all_monarchs_data.append({\n",
    "                    \"Triều đại\": final_dynasty_name,\n",
    "                    \"Tên húy\": ten_huy,\n",
    "                    \"Niên hiệu\": nien_hieu\n",
    "                })\n",
    "\n",
    "# In kết quả cuối cùng để kiểm tra\n",
    "for monarch in all_monarchs_data:\n",
    "    print(monarch)"
   ]
  }
 ],
 "metadata": {
  "kernelspec": {
   "display_name": "base",
   "language": "python",
   "name": "python3"
  },
  "language_info": {
   "codemirror_mode": {
    "name": "ipython",
    "version": 3
   },
   "file_extension": ".py",
   "mimetype": "text/x-python",
   "name": "python",
   "nbconvert_exporter": "python",
   "pygments_lexer": "ipython3",
   "version": "3.12.7"
  }
 },
 "nbformat": 4,
 "nbformat_minor": 5
}
